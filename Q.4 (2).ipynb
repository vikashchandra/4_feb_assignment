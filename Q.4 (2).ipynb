{
 "cells": [
  {
   "cell_type": "code",
   "execution_count": 4,
   "id": "3244f3fd-f7e8-445f-9d6b-d366849fb8ea",
   "metadata": {},
   "outputs": [
    {
     "name": "stdout",
     "output_type": "stream",
     "text": [
      "list: [1, 2, 3, 4, 5, 6, 7, 8, 9, 10, 11, 12, 13, 14, 15, 16, 17, 18, 19, 20, 21, 22, 23, 24, 25]\n",
      "product: 15511210043330985984000000\n"
     ]
    }
   ],
   "source": [
    "\"\"\"Q.4.Write a python program using reduce function to compute\n",
    "the product of a list containing numbers from 1 to 25.\"\"\"\n",
    "\n",
    "l=[]\n",
    "for i in range(25):\n",
    "    l.append(i+1)\n",
    "from functools import reduce\n",
    "p=reduce(lambda x,y:x*y,l)\n",
    "print(\"list:\",l)\n",
    "print(\"product:\",p)"
   ]
  },
  {
   "cell_type": "code",
   "execution_count": null,
   "id": "85f660cd-b8e5-4270-8c95-8cf01e0b98fc",
   "metadata": {},
   "outputs": [],
   "source": []
  }
 ],
 "metadata": {
  "kernelspec": {
   "display_name": "Python 3 (ipykernel)",
   "language": "python",
   "name": "python3"
  },
  "language_info": {
   "codemirror_mode": {
    "name": "ipython",
    "version": 3
   },
   "file_extension": ".py",
   "mimetype": "text/x-python",
   "name": "python",
   "nbconvert_exporter": "python",
   "pygments_lexer": "ipython3",
   "version": "3.10.8"
  }
 },
 "nbformat": 4,
 "nbformat_minor": 5
}
