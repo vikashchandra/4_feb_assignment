{
 "cells": [
  {
   "cell_type": "code",
   "execution_count": 1,
   "id": "eaeafe0d-8293-4873-ae9e-b14481153854",
   "metadata": {},
   "outputs": [
    {
     "name": "stdout",
     "output_type": "stream",
     "text": [
      "list: [1, 2, 3, 4, 5, 6, 7, 8, 9, 10]\n",
      "squares: [1, 4, 9, 16, 25, 36, 49, 64, 81, 100]\n"
     ]
    }
   ],
   "source": [
    "\"\"\"Q.2. Write a python program to find the aquares of all the numbers \n",
    "in given list of integers using lambda and map functions.\n",
    "[1,2,3,4,5,6,7,8,9,10]\"\"\"\n",
    "#Ans-\n",
    "l=[1,2,3,4,5,6,7,8,9,10]\n",
    "l1=[]\n",
    "l1=list(map(lambda a: a*a,l))\n",
    "print(\"list:\",l)\n",
    "print(\"squares:\",l1)"
   ]
  },
  {
   "cell_type": "code",
   "execution_count": null,
   "id": "130bfba2-b39f-4e7b-8611-b8c5bb7cd0ed",
   "metadata": {},
   "outputs": [],
   "source": []
  }
 ],
 "metadata": {
  "kernelspec": {
   "display_name": "Python 3 (ipykernel)",
   "language": "python",
   "name": "python3"
  },
  "language_info": {
   "codemirror_mode": {
    "name": "ipython",
    "version": 3
   },
   "file_extension": ".py",
   "mimetype": "text/x-python",
   "name": "python",
   "nbconvert_exporter": "python",
   "pygments_lexer": "ipython3",
   "version": "3.10.8"
  }
 },
 "nbformat": 4,
 "nbformat_minor": 5
}
