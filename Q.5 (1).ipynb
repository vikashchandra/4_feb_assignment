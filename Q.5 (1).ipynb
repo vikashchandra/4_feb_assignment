{
 "cells": [
  {
   "cell_type": "code",
   "execution_count": 3,
   "id": "156f0b44-f2ae-4435-82fb-0ac27cbeacde",
   "metadata": {},
   "outputs": [
    {
     "ename": "SyntaxError",
     "evalue": "invalid syntax. Perhaps you forgot a comma? (4222467975.py, line 6)",
     "output_type": "error",
     "traceback": [
      "\u001b[0;36m  Cell \u001b[0;32mIn[3], line 6\u001b[0;36m\u001b[0m\n\u001b[0;31m    filter(lambda a:l1.append(a) a%2==0 and a%3==0,l)\u001b[0m\n\u001b[0m                    ^\u001b[0m\n\u001b[0;31mSyntaxError\u001b[0m\u001b[0;31m:\u001b[0m invalid syntax. Perhaps you forgot a comma?\n"
     ]
    }
   ],
   "source": [
    "\"\"\"Q.5. Write a python program to filter the nuimbers in a given \n",
    "list that are divisible by 2 and 3 using the filter function.\n",
    "[2,3,6,9,27,60,90,120,55,46] \"\"\"\n",
    "l=[2,3,6,9,27,60,90,120,55,46]\n",
    "l1=[]\n",
    "filter(lambda a:l1.append(a) a%2==0 and a%3==0,l)\n",
    "print(\"list:\",l)\n",
    "print(\"After filter:\",l1)"
   ]
  },
  {
   "cell_type": "code",
   "execution_count": null,
   "id": "f964fbce-beda-4d43-b98c-5ca4f4d25fdf",
   "metadata": {},
   "outputs": [],
   "source": []
  }
 ],
 "metadata": {
  "kernelspec": {
   "display_name": "Python 3 (ipykernel)",
   "language": "python",
   "name": "python3"
  },
  "language_info": {
   "codemirror_mode": {
    "name": "ipython",
    "version": 3
   },
   "file_extension": ".py",
   "mimetype": "text/x-python",
   "name": "python",
   "nbconvert_exporter": "python",
   "pygments_lexer": "ipython3",
   "version": "3.10.8"
  }
 },
 "nbformat": 4,
 "nbformat_minor": 5
}
