{
 "cells": [
  {
   "cell_type": "code",
   "execution_count": 27,
   "id": "d7a3ba0d-9f68-42e5-9867-34ef677b90d7",
   "metadata": {},
   "outputs": [
    {
     "data": {
      "text/plain": [
       "['php', 'aba', 'radar', 'level']"
      ]
     },
     "execution_count": 27,
     "metadata": {},
     "output_type": "execute_result"
    }
   ],
   "source": [
    "\"\"\"Q.6.Write a python program to find palindrome in the given list\n",
    "of strings using lambda and filter function.\n",
    "\n",
    "['python','php','aba','radar','level']  \"\"\"\n",
    "#Ans-\n",
    "l=['python','php','aba','radar','level']\n",
    "\n",
    "l1=list(filter(lambda x:x==x[len(x)-1::-1],l))\n",
    "print(\"list:\"\n"
   ]
  },
  {
   "cell_type": "code",
   "execution_count": null,
   "id": "36ce8e95-0dc5-48f1-ab05-3c099ea9c420",
   "metadata": {},
   "outputs": [],
   "source": []
  }
 ],
 "metadata": {
  "kernelspec": {
   "display_name": "Python 3 (ipykernel)",
   "language": "python",
   "name": "python3"
  },
  "language_info": {
   "codemirror_mode": {
    "name": "ipython",
    "version": 3
   },
   "file_extension": ".py",
   "mimetype": "text/x-python",
   "name": "python",
   "nbconvert_exporter": "python",
   "pygments_lexer": "ipython3",
   "version": "3.10.8"
  }
 },
 "nbformat": 4,
 "nbformat_minor": 5
}
